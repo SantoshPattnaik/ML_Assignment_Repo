{
 "cells": [
  {
   "cell_type": "markdown",
   "id": "348d091d",
   "metadata": {},
   "source": [
    "## Assignments Dated: 21 May, 2025"
   ]
  },
  {
   "cell_type": "code",
   "execution_count": 3,
   "id": "269c550f",
   "metadata": {},
   "outputs": [
    {
     "name": "stdout",
     "output_type": "stream",
     "text": [
      "1 2 3 4 5 6 7 8 9 10 "
     ]
    }
   ],
   "source": [
    "# Print numbers from 1 to 10\n",
    "for i in range(1,11):\n",
    "    print(i,end=' ')"
   ]
  },
  {
   "cell_type": "code",
   "execution_count": 4,
   "id": "f8de9d43",
   "metadata": {},
   "outputs": [
    {
     "name": "stdout",
     "output_type": "stream",
     "text": [
      "2 4 6 8 10 12 14 16 18 20 "
     ]
    }
   ],
   "source": [
    "# Print even numbers from 1 to 20\n",
    "for i in range(1,21):\n",
    "    if(i%2==0):\n",
    "        print(i,end=' ')\n"
   ]
  },
  {
   "cell_type": "code",
   "execution_count": 7,
   "id": "a83e9f5b",
   "metadata": {},
   "outputs": [
    {
     "name": "stdout",
     "output_type": "stream",
     "text": [
      "The number 0 is equal to zero.\n"
     ]
    }
   ],
   "source": [
    "# Check if a number is positive, negative or zero\n",
    "num=int(input('Type a number to check whether it is positive, negative or zero: '))\n",
    "if(num>0):\n",
    "    print(f\"The number {num} is positive.\")\n",
    "elif(num<0):\n",
    "    print(f'The number {num} is negative.')\n",
    "elif(num==0):\n",
    "    print(f'The number {num} is equal to zero.')"
   ]
  },
  {
   "cell_type": "code",
   "execution_count": 8,
   "id": "bc5b00e9",
   "metadata": {},
   "outputs": [
    {
     "name": "stdout",
     "output_type": "stream",
     "text": [
      "Addition of the numbers 1 and 2 is: 3\n"
     ]
    }
   ],
   "source": [
    "# Add two numbers using operators\n",
    "num1=int(input('Enter number 1: '))\n",
    "num2=int(input('Enter number 2: '))\n",
    "print(f'Addition of the numbers {num1} and {num2} is: {num1+num2}')"
   ]
  },
  {
   "cell_type": "code",
   "execution_count": 9,
   "id": "c0413577",
   "metadata": {},
   "outputs": [
    {
     "name": "stdout",
     "output_type": "stream",
     "text": [
      "20 is greater than 19\n"
     ]
    }
   ],
   "source": [
    "# Find the largest among two numbers\n",
    "num1=int(input('Enter number 1: '))\n",
    "num2=int(input('Enter number 2: '))\n",
    "if num1 > num2:\n",
    "    print(f'{num1} is greater than {num2}')\n",
    "else:\n",
    "    print(f'{num2} is greater than {num1}')"
   ]
  },
  {
   "cell_type": "code",
   "execution_count": 11,
   "id": "1eb2c178",
   "metadata": {},
   "outputs": [
    {
     "name": "stdout",
     "output_type": "stream",
     "text": [
      "5 4 3 2 1 "
     ]
    }
   ],
   "source": [
    "# Use a while loop to print numbers from 5 to 1\n",
    "i=5\n",
    "while i>0:\n",
    "    print(i,end=' ')\n",
    "    i-=1"
   ]
  },
  {
   "cell_type": "code",
   "execution_count": 13,
   "id": "0aacaf38",
   "metadata": {},
   "outputs": [
    {
     "name": "stdout",
     "output_type": "stream",
     "text": [
      "T\n",
      "h\n",
      "i\n",
      "s\n",
      " \n",
      "i\n",
      "s\n",
      " \n",
      "a\n",
      " \n",
      "s\n",
      "t\n",
      "r\n",
      "i\n",
      "n\n",
      "g\n"
     ]
    }
   ],
   "source": [
    "# Print all characters in a string\n",
    "str='This is a string'\n",
    "for i in str:\n",
    "    print(i)"
   ]
  },
  {
   "cell_type": "code",
   "execution_count": 15,
   "id": "82172aad",
   "metadata": {},
   "outputs": [
    {
     "name": "stdout",
     "output_type": "stream",
     "text": [
      "The number 23 resides between 10 and 50\n"
     ]
    }
   ],
   "source": [
    "# Use logical operator to check if a number is between 10 to 50\n",
    "num=int(input('Enter a number to check whether it resides between 10 and 50'))\n",
    "if(num>10 and num<50):\n",
    "    print(f'The number {num} resides between 10 and 50')\n",
    "else:\n",
    "    print(f'The number {num} does not reside between 10 and 50')"
   ]
  },
  {
   "cell_type": "code",
   "execution_count": 16,
   "id": "2a07089f",
   "metadata": {},
   "outputs": [
    {
     "name": "stdout",
     "output_type": "stream",
     "text": [
      "55\n"
     ]
    }
   ],
   "source": [
    "# Sum of first 10 natural numbers\n",
    "sum=0\n",
    "for i in range(1,11):\n",
    "    sum+=i\n",
    "print(sum)"
   ]
  },
  {
   "cell_type": "code",
   "execution_count": 17,
   "id": "c990a3e0",
   "metadata": {},
   "outputs": [
    {
     "name": "stdout",
     "output_type": "stream",
     "text": [
      "1 is odd\n",
      "2 is Even\n",
      "3 is odd\n",
      "4 is Even\n",
      "5 is odd\n",
      "6 is Even\n",
      "7 is odd\n",
      "8 is Even\n",
      "9 is odd\n",
      "10 is Even\n"
     ]
    }
   ],
   "source": [
    "# Print \"Odd\" and \"Even\" for numbers 1 to 10\n",
    "for i in range(1,11):\n",
    "    if i%2==0:\n",
    "        print(f'{i} is Even')\n",
    "    else:\n",
    "        print(f'{i} is odd')"
   ]
  },
  {
   "cell_type": "code",
   "execution_count": 19,
   "id": "507b23b2",
   "metadata": {},
   "outputs": [
    {
     "name": "stdout",
     "output_type": "stream",
     "text": [
      "1 2 3 4 "
     ]
    }
   ],
   "source": [
    "# Use \"break\" to stop loop when number is 5\n",
    "for i in range(1,10):\n",
    "    if i==5:\n",
    "        break\n",
    "    print(i, end=' ')"
   ]
  },
  {
   "cell_type": "code",
   "execution_count": 20,
   "id": "636906ab",
   "metadata": {},
   "outputs": [
    {
     "name": "stdout",
     "output_type": "stream",
     "text": [
      "1 2 3 4 6 7 8 9 10 "
     ]
    }
   ],
   "source": [
    "# Print 1 to 10 and use \"continue\" to skip printing 5\n",
    "for i in range(1, 11):\n",
    "    if i==5:\n",
    "        continue\n",
    "    print(i,end=' ')"
   ]
  },
  {
   "cell_type": "code",
   "execution_count": 22,
   "id": "0b87792c",
   "metadata": {},
   "outputs": [
    {
     "name": "stdout",
     "output_type": "stream",
     "text": [
      "1 2 3 santosh alex friends True 13.67 "
     ]
    }
   ],
   "source": [
    "# Print all elements in a list using a loop\n",
    "list=[1,2,3,\"santosh\",\"alex\",\"friends\",True,13.67]\n",
    "i=0\n",
    "while i<len(list):\n",
    "    print(list[i],end=' ')\n",
    "    i+=1"
   ]
  },
  {
   "cell_type": "code",
   "execution_count": 8,
   "id": "9ad9bd69",
   "metadata": {},
   "outputs": [
    {
     "name": "stdout",
     "output_type": "stream",
     "text": [
      "The number 30 is divisible by both 3 and 5\n"
     ]
    }
   ],
   "source": [
    "# Check if a number is divisible by both 3 and 5\n",
    "num=int(input('Enter a number to check if it is divisible by 3 and 5: '))\n",
    "if num%3==0 and num%5==0:\n",
    "    print(f'The number {num} is divisible by both 3 and 5')\n",
    "else:\n",
    "    print(f'The number {num} is not divisible by both 3 and 5')"
   ]
  },
  {
   "cell_type": "code",
   "execution_count": 9,
   "id": "bb4ecbb5",
   "metadata": {},
   "outputs": [
    {
     "name": "stdout",
     "output_type": "stream",
     "text": [
      "Square of 1 is: 1\n",
      "Square of 2 is: 4\n",
      "Square of 3 is: 9\n",
      "Square of 4 is: 16\n",
      "Square of 5 is: 25\n"
     ]
    }
   ],
   "source": [
    "# Print square of all numbers from 1 to 5\n",
    "for i in range(1,6):\n",
    "    print(f'Square of {i} is: {i**2}')"
   ]
  },
  {
   "cell_type": "code",
   "execution_count": null,
   "id": "9743096a",
   "metadata": {},
   "outputs": [
    {
     "name": "stdout",
     "output_type": "stream",
     "text": [
      "ASCII value of B is 66\n",
      "ASCII value of o is 111\n",
      "ASCII value of b is 98\n",
      "ASCII value of   is 32\n",
      "ASCII value of i is 105\n",
      "ASCII value of s is 115\n",
      "ASCII value of   is 32\n",
      "ASCII value of a is 97\n",
      "ASCII value of   is 32\n",
      "ASCII value of g is 103\n",
      "ASCII value of o is 111\n",
      "ASCII value of o is 111\n",
      "ASCII value of d is 100\n",
      "ASCII value of   is 32\n",
      "ASCII value of b is 98\n",
      "ASCII value of o is 111\n",
      "ASCII value of y is 121\n"
     ]
    }
   ],
   "source": [
    "# Print ASCII values of all characters in a string\n",
    "str='Bob is a good boy'\n",
    "for i in str:\n",
    "    print(f'ASCII value of {i} is',i.encode()[0])\n",
    "\n",
    "# Another approach\n",
    "print('Another Approach')\n",
    "for i in str:\n",
    "    print(f'ASCII value of {i} is',ord(i))"
   ]
  },
  {
   "cell_type": "code",
   "execution_count": 16,
   "id": "43429f5b",
   "metadata": {},
   "outputs": [
    {
     "name": "stdout",
     "output_type": "stream",
     "text": [
      "10\n",
      "9\n",
      "8\n",
      "7\n",
      "6\n",
      "5\n",
      "4\n",
      "3\n",
      "2\n",
      "1\n"
     ]
    }
   ],
   "source": [
    "# Count down from 10 to 1 using while\n",
    "i=10\n",
    "while i>0:\n",
    "    print(i)\n",
    "    i-=1"
   ]
  },
  {
   "cell_type": "code",
   "execution_count": 18,
   "id": "8b3d7822",
   "metadata": {},
   "outputs": [
    {
     "name": "stdout",
     "output_type": "stream",
     "text": [
      "No, the number 17 is not divisible by 2 or 3\n"
     ]
    }
   ],
   "source": [
    "# Check if a number is divisible by 2 or 3\n",
    "num=int(input('Enter a number to check if it is divisible by 2 or 3: '))\n",
    "if num%2==0 or num%3==0:\n",
    "    print(f'Yes, the number {num} is divisible by 2 or 3')\n",
    "else:\n",
    "    print(f'No, the number {num} is not divisible by 2 or 3')"
   ]
  },
  {
   "cell_type": "code",
   "execution_count": 103,
   "id": "fd891b89",
   "metadata": {},
   "outputs": [
    {
     "name": "stdout",
     "output_type": "stream",
     "text": [
      "The sum of the digits of the number 698 is 23\n",
      "The sum of the digits of the number 698 is 23\n"
     ]
    }
   ],
   "source": [
    "# Print sum of digits of a number\n",
    "############ Approach 1  ###########\n",
    "# Here we ask the user for a numeric input but we will not type cast to int type \n",
    "# else use the string format of number to iterate over every number and then type\n",
    "# cast to every single digit to int and add them up\n",
    "num=input('Enter a number: ')\n",
    "sum=0\n",
    "for i in num:\n",
    "    sum+=int(i)\n",
    "print(f'The sum of the digits of the number {num} is {sum}')\n",
    "\n",
    "############ Approach 2 ############\n",
    "# Here we add the given number with the sum value and get the remainder by dividing\n",
    "# the result with 10 and then divide the number with 10 to get the quotient and do this repeatedly till the number reaches 0\n",
    "sum=0\n",
    "num1=int(num)\n",
    "while num1!=0:\n",
    "    sum=sum+num1%10\n",
    "    num1=num1//10\n",
    "\n",
    "print(f'The sum of the digits of the number {int(num)} is {sum}')"
   ]
  },
  {
   "cell_type": "code",
   "execution_count": 63,
   "id": "719ea453",
   "metadata": {},
   "outputs": [
    {
     "name": "stdout",
     "output_type": "stream",
     "text": [
      "First Number is 24 and Second Number is 356\n",
      "First Number is 356 and Second Number is 24\n"
     ]
    }
   ],
   "source": [
    "# Swap two numbers using a temporary variable\n",
    "num1=int(input('Enter number 1: '))\n",
    "num2=int(input('Enter number 2: '))\n",
    "\n",
    "print(f'First Number is {num1} and Second Number is {num2}')\n",
    "temp=num1\n",
    "num1=num2\n",
    "num2=temp\n",
    "print(f'First Number is {num1} and Second Number is {num2}')"
   ]
  },
  {
   "cell_type": "code",
   "execution_count": 64,
   "id": "ad8875f2",
   "metadata": {},
   "outputs": [
    {
     "name": "stdout",
     "output_type": "stream",
     "text": [
      "7 14 21 28 35 42 49 56 63 70 77 84 91 98 "
     ]
    }
   ],
   "source": [
    "# Print numbers from 1 to 100 that are divisible by 7\n",
    "for i in range(1,101):\n",
    "    if(i%7==0):\n",
    "        print(i,end=' ')"
   ]
  },
  {
   "cell_type": "code",
   "execution_count": 79,
   "id": "359c663c",
   "metadata": {},
   "outputs": [
    {
     "name": "stdout",
     "output_type": "stream",
     "text": [
      "---------Approach 1---------\n"
     ]
    },
    {
     "name": "stdout",
     "output_type": "stream",
     "text": [
      "Factorial of the number 5 is 120\n",
      "---------Approach 2---------\n",
      "Factorial of the number 5 is 120\n"
     ]
    }
   ],
   "source": [
    "# Find factorial of a number\n",
    "print('---------Approach 1---------')\n",
    "# Using Recursion\n",
    "def fact(num):\n",
    "    if num==0 or num==1:\n",
    "        return 1\n",
    "    else:\n",
    "        num=num*fact(num-1)\n",
    "        return num\n",
    "\n",
    "number=int(input('Enter a number: '))\n",
    "print(f'Factorial of the number {number} is {fact(number)}')\n",
    "\n",
    "print('---------Approach 2---------')\n",
    "# Using loop\n",
    "print(f'Factorial of the number {number} is',end=' ')\n",
    "if number==1 or number==0:\n",
    "    print(1)\n",
    "else:\n",
    "    i=number\n",
    "    while i!=1:\n",
    "        number=number*(i-1)\n",
    "        i-=1\n",
    "    print(number)"
   ]
  },
  {
   "cell_type": "code",
   "execution_count": null,
   "id": "3439f2fc",
   "metadata": {},
   "outputs": [
    {
     "name": "stdout",
     "output_type": "stream",
     "text": [
      "Number of vowels in the string \"Sofia is eating Icecream\" is 11\n"
     ]
    }
   ],
   "source": [
    "# Count vowels in a string\n",
    "vowels=['a','e','i','o','u']\n",
    "count=0\n",
    "str=input('Enter a string: ')\n",
    "for i in str.lower():\n",
    "    if i in vowels:\n",
    "        count+=1\n",
    "        \n",
    "print(f'Number of vowels in the string \\\"{str}\\\" is {count}')"
   ]
  },
  {
   "cell_type": "code",
   "execution_count": 108,
   "id": "482f22f0",
   "metadata": {},
   "outputs": [
    {
     "name": "stdout",
     "output_type": "stream",
     "text": [
      "---------Approach 1----------\n",
      "Reverse of the number 1287 is 7821\n",
      "---------Approach 2----------\n",
      "Reverse of the number 1287 is 7821\n",
      "---------Approach 3----------\n",
      "Reverse of the number 1287 is 7821\n"
     ]
    }
   ],
   "source": [
    "# Reverse a number using loop\n",
    "print('---------Approach 1----------')\n",
    "# Using string input of numbers\n",
    "num=input('Enter a number: ')\n",
    "list=[]\n",
    "for val in num:\n",
    "    list.insert(0,val)\n",
    "\n",
    "print(f'Reverse of the number {num} is',end=' ')\n",
    "for i in list:\n",
    "    print(i,end='')\n",
    "print('\\n---------Approach 2----------')\n",
    "# Using string concatenation\n",
    "num_reversed=''\n",
    "for i in num:\n",
    "    num_reversed=i+num_reversed\n",
    "    \n",
    "print(f'Reverse of the number {num} is {num_reversed}')\n",
    "\n",
    "print('---------Approach 3----------')\n",
    "# Using integer input of the number\n",
    "reverse=0\n",
    "print(f'Reverse of the number {num} is',end=' ')\n",
    "num=int(num)\n",
    "while num>0:\n",
    "    digit=num%10\n",
    "    reverse=reverse*10+digit\n",
    "    num=num//10\n",
    "\n",
    "print(reverse)"
   ]
  },
  {
   "cell_type": "code",
   "execution_count": 109,
   "id": "78326815",
   "metadata": {},
   "outputs": [
    {
     "name": "stdout",
     "output_type": "stream",
     "text": [
      "The maximum number in the list is: 87\n"
     ]
    }
   ],
   "source": [
    "# Find the maximum in a list using loop\n",
    "list=[1,2,4,3,87,45,21,12]\n",
    "max=list[0]\n",
    "for i in list:\n",
    "    if i> max:\n",
    "        max=i\n",
    "    \n",
    "print(f'The maximum number in the list is: {max}')\n"
   ]
  },
  {
   "cell_type": "code",
   "execution_count": null,
   "id": "bec637a4",
   "metadata": {},
   "outputs": [
    {
     "name": "stdout",
     "output_type": "stream",
     "text": [
      "The number 1 is not a prime number\n",
      "The number 2 is a prime number\n",
      "The number 3 is a prime number\n",
      "The number 4 is not a prime number\n",
      "The number 5 is a prime number\n",
      "The number 6 is not a prime number\n",
      "The number 7 is a prime number\n",
      "The number 8 is not a prime number\n",
      "The number 9 is not a prime number\n",
      "The number 10 is not a prime number\n",
      "The number 11 is a prime number\n",
      "The number 12 is not a prime number\n",
      "The number 13 is a prime number\n",
      "The number 14 is not a prime number\n",
      "The number 15 is not a prime number\n",
      "The number 16 is not a prime number\n",
      "The number 17 is a prime number\n",
      "The number 18 is not a prime number\n",
      "The number 19 is a prime number\n",
      "The number 20 is not a prime number\n"
     ]
    }
   ],
   "source": [
    "# Prime number check using loop\n",
    "# The logic is any number is a prime number (except 0 and 1) if and only \n",
    "# if it is not divisible by the numbers between 2 to the square of the number itself\n",
    "for i in range(1,21):\n",
    "    if i==1 or i==0:\n",
    "        print(f'The number {i} is not a prime number')\n",
    "    elif i>1:\n",
    "        is_prime=True\n",
    "        for j in range(2,int(i**0.5)+1):\n",
    "            if i%j==0:\n",
    "                is_prime=False\n",
    "                break\n",
    "        if is_prime:\n",
    "            print(f'The number {i} is a prime number')\n",
    "        else:\n",
    "            print(f'The number {i} is not a prime number')"
   ]
  },
  {
   "cell_type": "code",
   "execution_count": 6,
   "id": "2ad0eaa8",
   "metadata": {},
   "outputs": [
    {
     "name": "stdout",
     "output_type": "stream",
     "text": [
      "The sum of the even numbers in the list is: 302\n"
     ]
    }
   ],
   "source": [
    "# Sum of even numbers in a list\n",
    "list=[1,2,45,34,56,65,23,32,78,87,100]\n",
    "sum=0\n",
    "for i in list:\n",
    "    if i%2==0:\n",
    "        sum+=i\n",
    "\n",
    "print(f'The sum of the even numbers in the list is: {sum}')"
   ]
  }
 ],
 "metadata": {
  "kernelspec": {
   "display_name": "ML_Assignment_Repo",
   "language": "python",
   "name": "python3"
  },
  "language_info": {
   "codemirror_mode": {
    "name": "ipython",
    "version": 3
   },
   "file_extension": ".py",
   "mimetype": "text/x-python",
   "name": "python",
   "nbconvert_exporter": "python",
   "pygments_lexer": "ipython3",
   "version": "3.13.3"
  }
 },
 "nbformat": 4,
 "nbformat_minor": 5
}
