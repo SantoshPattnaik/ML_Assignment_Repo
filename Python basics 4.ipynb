{
 "cells": [
  {
   "cell_type": "markdown",
   "id": "5426668c",
   "metadata": {},
   "source": [
    "NumPy"
   ]
  },
  {
   "cell_type": "code",
   "execution_count": 37,
   "id": "e0df6b15",
   "metadata": {},
   "outputs": [],
   "source": [
    "import numpy as np\n",
    "import numpy.random as rand\n",
    "import pandas as pd"
   ]
  },
  {
   "cell_type": "markdown",
   "id": "04ab14a2",
   "metadata": {},
   "source": [
    "1. Create a 1D array from a list.\n"
   ]
  },
  {
   "cell_type": "code",
   "execution_count": 38,
   "id": "bdd9bb71",
   "metadata": {},
   "outputs": [
    {
     "data": {
      "text/plain": [
       "array([1, 2, 3, 4, 5])"
      ]
     },
     "execution_count": 38,
     "metadata": {},
     "output_type": "execute_result"
    }
   ],
   "source": [
    "arr=np.array([1,2,3,4,5])\n",
    "arr"
   ]
  },
  {
   "cell_type": "markdown",
   "id": "6685e60b",
   "metadata": {},
   "source": [
    "2. Create a 3x3 array of zeros.\n"
   ]
  },
  {
   "cell_type": "code",
   "execution_count": 39,
   "id": "aceca073",
   "metadata": {},
   "outputs": [
    {
     "data": {
      "text/plain": [
       "array([[0., 0., 0.],\n",
       "       [0., 0., 0.],\n",
       "       [0., 0., 0.]])"
      ]
     },
     "execution_count": 39,
     "metadata": {},
     "output_type": "execute_result"
    }
   ],
   "source": [
    "arr=np.zeros((3,3))\n",
    "arr"
   ]
  },
  {
   "cell_type": "markdown",
   "id": "4b3228e3",
   "metadata": {},
   "source": [
    "3. Create a 2x2 array of ones."
   ]
  },
  {
   "cell_type": "code",
   "execution_count": 6,
   "id": "55f906a9",
   "metadata": {},
   "outputs": [
    {
     "data": {
      "text/plain": [
       "array([[1., 1.],\n",
       "       [1., 1.]])"
      ]
     },
     "execution_count": 6,
     "metadata": {},
     "output_type": "execute_result"
    }
   ],
   "source": [
    "arr=np.ones((2,2))\n",
    "arr"
   ]
  },
  {
   "cell_type": "markdown",
   "id": "216a6008",
   "metadata": {},
   "source": [
    "4. Generate array from 0 to 10 (exclusive)."
   ]
  },
  {
   "cell_type": "code",
   "execution_count": 7,
   "id": "69c3fc43",
   "metadata": {},
   "outputs": [
    {
     "data": {
      "text/plain": [
       "array([0, 1, 2, 3, 4, 5, 6, 7, 8, 9])"
      ]
     },
     "execution_count": 7,
     "metadata": {},
     "output_type": "execute_result"
    }
   ],
   "source": [
    "np.arange(0,10)"
   ]
  },
  {
   "cell_type": "markdown",
   "id": "33fc220e",
   "metadata": {},
   "source": [
    "5. Create 5 evenly spaced numbers between 0 and 1.\n"
   ]
  },
  {
   "cell_type": "code",
   "execution_count": 9,
   "id": "a5a289bd",
   "metadata": {},
   "outputs": [
    {
     "data": {
      "text/plain": [
       "array([0.  , 0.25, 0.5 , 0.75, 1.  ])"
      ]
     },
     "execution_count": 9,
     "metadata": {},
     "output_type": "execute_result"
    }
   ],
   "source": [
    "np.linspace(0,1,5)"
   ]
  },
  {
   "cell_type": "markdown",
   "id": "36beae34",
   "metadata": {},
   "source": [
    "6. Create a 4x4 identity matrix."
   ]
  },
  {
   "cell_type": "code",
   "execution_count": 11,
   "id": "bce74e17",
   "metadata": {},
   "outputs": [
    {
     "data": {
      "text/plain": [
       "array([[1., 0., 0., 0.],\n",
       "       [0., 1., 0., 0.],\n",
       "       [0., 0., 1., 0.],\n",
       "       [0., 0., 0., 1.]])"
      ]
     },
     "execution_count": 11,
     "metadata": {},
     "output_type": "execute_result"
    }
   ],
   "source": [
    "np.eye(4,4)"
   ]
  },
  {
   "cell_type": "markdown",
   "id": "f98bcaf1",
   "metadata": {},
   "source": [
    "7. Reshape 1D array to 2D."
   ]
  },
  {
   "cell_type": "code",
   "execution_count": 22,
   "id": "23d96598",
   "metadata": {},
   "outputs": [
    {
     "name": "stdout",
     "output_type": "stream",
     "text": [
      "[1 2 3 4 5]\n",
      "[[1 2 3 4 5]]\n"
     ]
    }
   ],
   "source": [
    "arr=np.array([1,2,3,4,5])\n",
    "print(arr)\n",
    "print(arr.reshape(1,5))"
   ]
  },
  {
   "cell_type": "markdown",
   "id": "7d03d242",
   "metadata": {},
   "source": [
    "8. Get the shape and dtype of an array."
   ]
  },
  {
   "cell_type": "code",
   "execution_count": 40,
   "id": "844e70e2",
   "metadata": {},
   "outputs": [
    {
     "name": "stdout",
     "output_type": "stream",
     "text": [
      "[[46 36]]\n",
      "(1, 2)\n",
      "int32\n"
     ]
    }
   ],
   "source": [
    "arr=rand.randint(10,50,(1,2))\n",
    "print(arr)\n",
    "print(arr.shape)\n",
    "print(arr.dtype)"
   ]
  },
  {
   "cell_type": "markdown",
   "id": "f8ac921f",
   "metadata": {},
   "source": [
    "9. Reverse a NumPy array."
   ]
  },
  {
   "cell_type": "code",
   "execution_count": 41,
   "id": "3818b200",
   "metadata": {},
   "outputs": [
    {
     "name": "stdout",
     "output_type": "stream",
     "text": [
      "Original Array: [5 1 9 1 4]\n",
      "Reversed Array: [4 1 9 1 5]\n"
     ]
    },
    {
     "data": {
      "text/plain": [
       "array([5, 1, 9, 1, 4], dtype=int32)"
      ]
     },
     "execution_count": 41,
     "metadata": {},
     "output_type": "execute_result"
    }
   ],
   "source": [
    "arr=rand.randint(1,10,(5,))\n",
    "print(f'Original Array: {arr}')\n",
    "print(f'Reversed Array: {arr[::-1]}')\n",
    "arr"
   ]
  },
  {
   "cell_type": "markdown",
   "id": "5af24276",
   "metadata": {},
   "source": [
    "10. Extract even numbers from an array."
   ]
  },
  {
   "cell_type": "code",
   "execution_count": 42,
   "id": "da78ee8f",
   "metadata": {},
   "outputs": [
    {
     "name": "stdout",
     "output_type": "stream",
     "text": [
      "[4 9 2 9 9]\n",
      "[4 2]\n"
     ]
    }
   ],
   "source": [
    "arr=rand.randint(1,10,(5,))\n",
    "print(arr)\n",
    "print(arr[arr%2==0]) # Boolean indexing is used"
   ]
  },
  {
   "cell_type": "markdown",
   "id": "e49ee456",
   "metadata": {},
   "source": [
    "11. Find the max in each row."
   ]
  },
  {
   "cell_type": "code",
   "execution_count": 43,
   "id": "a3532b92",
   "metadata": {},
   "outputs": [
    {
     "name": "stdout",
     "output_type": "stream",
     "text": [
      "[[17 38 37 36]\n",
      " [35 30 44 48]\n",
      " [45 35 33 30]]\n",
      "Maximum number in each row are:\n",
      "38\n",
      "48\n",
      "45\n"
     ]
    }
   ],
   "source": [
    "arr=rand.randint(10,50,(3,4))\n",
    "print(arr)\n",
    "print('Maximum number in each row are:')\n",
    "for i in arr:\n",
    "    print(i.max())"
   ]
  },
  {
   "cell_type": "markdown",
   "id": "af60589c",
   "metadata": {},
   "source": [
    "12. Compute the mean, std, and median of an array.\n"
   ]
  },
  {
   "cell_type": "code",
   "execution_count": 44,
   "id": "0480fdad",
   "metadata": {},
   "outputs": [
    {
     "name": "stdout",
     "output_type": "stream",
     "text": [
      "[[45 41 37 35]\n",
      " [45 29 18 27]\n",
      " [38 23 40 17]]\n",
      "Mean: 32.916666666666664\n",
      "Standard Deviation: 9.482073730056218\n",
      "Median: 36.0\n"
     ]
    }
   ],
   "source": [
    "arr=rand.randint(10,50,(3,4))\n",
    "print(arr)\n",
    "print(f'Mean: {arr.mean()}')\n",
    "print(f'Standard Deviation: {arr.std()}')\n",
    "print(f'Median: {np.median(arr.flatten())}')"
   ]
  },
  {
   "cell_type": "markdown",
   "id": "872d701b",
   "metadata": {},
   "source": [
    "13. Stack two arrays vertically."
   ]
  },
  {
   "cell_type": "code",
   "execution_count": 45,
   "id": "beb6e9f2",
   "metadata": {},
   "outputs": [
    {
     "name": "stdout",
     "output_type": "stream",
     "text": [
      "Array 1:\n",
      "[[3 1 4]\n",
      " [4 2 1]]\n",
      "Array 2:\n",
      "[[25 45 21]\n",
      " [43 28 17]]\n",
      "Array 1 and 2 vertically stacked:\n",
      "[[ 3  1  4]\n",
      " [ 4  2  1]\n",
      " [25 45 21]\n",
      " [43 28 17]]\n"
     ]
    }
   ],
   "source": [
    "arr1=rand.randint(1,5,(2,3))\n",
    "arr2=rand.randint(10,50,(2,3))\n",
    "print(f'Array 1:\\n{arr1}')\n",
    "print(f'Array 2:\\n{arr2}')\n",
    "print(f'Array 1 and 2 vertically stacked:\\n{np.concatenate((arr1,arr2),axis=0)}')"
   ]
  },
  {
   "cell_type": "markdown",
   "id": "533a16f7",
   "metadata": {},
   "source": [
    "14. Stack two arrays horizontally."
   ]
  },
  {
   "cell_type": "code",
   "execution_count": 46,
   "id": "9e0c12b2",
   "metadata": {},
   "outputs": [
    {
     "name": "stdout",
     "output_type": "stream",
     "text": [
      "Array 1:\n",
      "[[3 2 2]\n",
      " [2 3 2]]\n",
      "Array 2:\n",
      "[[34 18 33]\n",
      " [47 31 39]]\n",
      "Array 1 and 2 vertically stacked:\n",
      "[[ 3  2  2 34 18 33]\n",
      " [ 2  3  2 47 31 39]]\n"
     ]
    }
   ],
   "source": [
    "arr1=rand.randint(1,5,(2,3))\n",
    "arr2=rand.randint(10,50,(2,3))\n",
    "print(f'Array 1:\\n{arr1}')\n",
    "print(f'Array 2:\\n{arr2}')\n",
    "print(f'Array 1 and 2 vertically stacked:\\n{np.concatenate((arr1,arr2),axis=1)}')"
   ]
  },
  {
   "cell_type": "markdown",
   "id": "82160fef",
   "metadata": {},
   "source": [
    "15. Stack two arrays horizontally.\n"
   ]
  },
  {
   "cell_type": "code",
   "execution_count": 47,
   "id": "bac7b61a",
   "metadata": {},
   "outputs": [
    {
     "name": "stdout",
     "output_type": "stream",
     "text": [
      "Array 1:\n",
      "[[3 1 2 3]\n",
      " [3 3 2 1]\n",
      " [1 3 3 3]]\n",
      "Array 2:\n",
      "[[16 41 36 46]\n",
      " [40 11 22 11]\n",
      " [40 38 29 19]]\n",
      "Array 1 and 2 vertically stacked:\n",
      "[[ 3  1  2  3 16 41 36 46]\n",
      " [ 3  3  2  1 40 11 22 11]\n",
      " [ 1  3  3  3 40 38 29 19]]\n"
     ]
    }
   ],
   "source": [
    "arr1=rand.randint(1,5,(3,4))\n",
    "arr2=rand.randint(10,50,(3,4))\n",
    "print(f'Array 1:\\n{arr1}')\n",
    "print(f'Array 2:\\n{arr2}')\n",
    "print(f'Array 1 and 2 vertically stacked:\\n{np.concatenate((arr1,arr2),axis=1)}')"
   ]
  },
  {
   "cell_type": "markdown",
   "id": "4e877ea8",
   "metadata": {},
   "source": [
    "16. Find the unique values and their counts.\n"
   ]
  },
  {
   "cell_type": "code",
   "execution_count": 49,
   "id": "ccf0edae",
   "metadata": {},
   "outputs": [
    {
     "name": "stdout",
     "output_type": "stream",
     "text": [
      "[5 1 6 6 2]\n",
      "Unique values in array: [1 2 5 6]\n",
      "Respective counts of the unique numbers: [1 1 1 2]\n"
     ]
    }
   ],
   "source": [
    "arr=rand.randint(1,10,(5,))\n",
    "print(arr)\n",
    "unique, counts=np.unique(arr,return_counts=True)\n",
    "print(f'Unique values in array: {unique}')\n",
    "print(f'Respective counts of the unique numbers: {counts}')"
   ]
  },
  {
   "cell_type": "markdown",
   "id": "879b38d0",
   "metadata": {},
   "source": [
    "17. Replace NaN with column means.\n"
   ]
  },
  {
   "cell_type": "code",
   "execution_count": 50,
   "id": "3832c27b",
   "metadata": {},
   "outputs": [
    {
     "name": "stdout",
     "output_type": "stream",
     "text": [
      "[[ 1.  2. nan]\n",
      " [ 4. nan  6.]\n",
      " [ 7.  8.  9.]]\n",
      "[[1.  2.  7.5]\n",
      " [4.  5.  6. ]\n",
      " [7.  8.  9. ]]\n"
     ]
    }
   ],
   "source": [
    "arr=np.array([\n",
    "    [1.0, 2.0, np.nan],\n",
    "    [4.0, np.nan, 6.0],\n",
    "    [7.0, 8.0, 9.0]\n",
    "])\n",
    "print(arr)\n",
    "col_means=np.nanmean(arr,axis=0)\n",
    "\n",
    "nan_indices=np.where(np.isnan(arr))\n",
    "\n",
    "arr[nan_indices]=np.take(col_means,nan_indices[1])\n",
    "print(arr)"
   ]
  },
  {
   "cell_type": "markdown",
   "id": "9fa051df",
   "metadata": {},
   "source": [
    "18. Get index of min and max values.\n"
   ]
  },
  {
   "cell_type": "code",
   "execution_count": 51,
   "id": "d694ba65",
   "metadata": {},
   "outputs": [
    {
     "name": "stdout",
     "output_type": "stream",
     "text": [
      "Array: [8 8 2 5 4]\n",
      "Minimum value in array: 2\n",
      "Maximum value in array: 8\n",
      "Index of Minimum value in array: [2]\n",
      "Index of Maximum value in array: [0 1]\n"
     ]
    }
   ],
   "source": [
    "arr=rand.randint(1,10,(5,))\n",
    "print(f'Array: {arr}')\n",
    "print(f'Minimum value in array: {arr.min()}')\n",
    "print(f'Maximum value in array: {arr.max()}')\n",
    "print(f'Index of Minimum value in array: {np.where(arr==arr.min())[0]}')\n",
    "print(f'Index of Maximum value in array: {np.where(arr==arr.max())[0]}')"
   ]
  },
  {
   "cell_type": "markdown",
   "id": "ea1257d4",
   "metadata": {},
   "source": [
    "19. Create a 3D array of random integers.\n",
    "\n"
   ]
  },
  {
   "cell_type": "code",
   "execution_count": 52,
   "id": "c9b3ed74",
   "metadata": {},
   "outputs": [
    {
     "data": {
      "text/plain": [
       "array([[[54, 61, 64],\n",
       "        [20, 45, 53]]], dtype=int32)"
      ]
     },
     "execution_count": 52,
     "metadata": {},
     "output_type": "execute_result"
    }
   ],
   "source": [
    "arr_3d=rand.randint(10,90,(1,2,3))\n",
    "arr_3d"
   ]
  },
  {
   "cell_type": "markdown",
   "id": "61844a5c",
   "metadata": {},
   "source": [
    "20. Use np.where() to replace values\n"
   ]
  },
  {
   "cell_type": "code",
   "execution_count": 90,
   "id": "73e29139",
   "metadata": {},
   "outputs": [
    {
     "name": "stdout",
     "output_type": "stream",
     "text": [
      "Original: [34 67 12 89 45]\n",
      "Modified: ['34' 'Greater than 50' '12' 'Greater than 50' '45']\n"
     ]
    }
   ],
   "source": [
    "arr = np.array([34, 67, 12, 89, 45])\n",
    "new_arr = np.where(arr > 50, 'Greater than 50', arr)\n",
    "\n",
    "print(\"Original:\", arr)\n",
    "print(\"Modified:\", new_arr)"
   ]
  },
  {
   "cell_type": "markdown",
   "id": "2f74ec47",
   "metadata": {
    "vscode": {
     "languageId": "plaintext"
    }
   },
   "source": [
    "Pandas"
   ]
  },
  {
   "cell_type": "markdown",
   "id": "30bece49",
   "metadata": {},
   "source": [
    "1. Create a Series using a Python list.\n"
   ]
  },
  {
   "cell_type": "code",
   "execution_count": null,
   "id": "82ab7ac4",
   "metadata": {},
   "outputs": [
    {
     "data": {
      "text/plain": [
       "0    13\n",
       "1    52\n",
       "2    32\n",
       "3    34\n",
       "4    51\n",
       "dtype: int32"
      ]
     },
     "execution_count": 36,
     "metadata": {},
     "output_type": "execute_result"
    }
   ],
   "source": [
    "ser=pd.Series(rand.randint(10,70,(5,)))\n",
    "ser"
   ]
  },
  {
   "cell_type": "markdown",
   "id": "9a7038c5",
   "metadata": {},
   "source": [
    "2. Create a Series with custom string indices.\n",
    "\n",
    "\n"
   ]
  },
  {
   "cell_type": "code",
   "execution_count": 55,
   "id": "bbcd62ca",
   "metadata": {},
   "outputs": [
    {
     "data": {
      "text/plain": [
       "Name                                 Leonardo DiCaprio\n",
       "Actor Domain                                 Hollywood\n",
       "Born Year                                         1974\n",
       "Some Famous Movies    Titanic, The Wolf of Wall Street\n",
       "dtype: object"
      ]
     },
     "execution_count": 55,
     "metadata": {},
     "output_type": "execute_result"
    }
   ],
   "source": [
    "ser=pd.Series(['Leonardo DiCaprio','Hollywood','1974','Titanic, The Wolf of Wall Street'],index=['Name','Actor Domain','Born Year','Some Famous Movies'])\n",
    "ser"
   ]
  },
  {
   "cell_type": "markdown",
   "id": "19ae6db0",
   "metadata": {},
   "source": [
    "3. Create a Series from a dictionary.\n"
   ]
  },
  {
   "cell_type": "code",
   "execution_count": 58,
   "id": "4d7c7331",
   "metadata": {},
   "outputs": [
    {
     "data": {
      "text/plain": [
       "Math                72\n",
       "Science             84\n",
       "English             12\n",
       "History             65\n",
       "Computer Science    10\n",
       "dtype: int64"
      ]
     },
     "execution_count": 58,
     "metadata": {},
     "output_type": "execute_result"
    }
   ],
   "source": [
    "ser=pd.Series({\n",
    "    'Math':rand.randint(1,100),\n",
    "    'Science':rand.randint(1,100),\n",
    "    'English':rand.randint(1,100),\n",
    "    'History':rand.randint(1,100),\n",
    "    'Computer Science':rand.randint(1,100)\n",
    "    })\n",
    "ser"
   ]
  },
  {
   "cell_type": "markdown",
   "id": "d505873f",
   "metadata": {},
   "source": [
    "4. Access first 3 elements of a Series.\n"
   ]
  },
  {
   "cell_type": "code",
   "execution_count": 62,
   "id": "12c43292",
   "metadata": {},
   "outputs": [
    {
     "name": "stdout",
     "output_type": "stream",
     "text": [
      "0    39\n",
      "1    33\n",
      "2    15\n",
      "3    31\n",
      "4    47\n",
      "dtype: int32\n",
      "First 3 elements of the series: \n",
      "0    39\n",
      "1    33\n",
      "2    15\n",
      "dtype: int32\n"
     ]
    }
   ],
   "source": [
    "ser=pd.Series(rand.randint(10,50,(5,)))\n",
    "print(ser)\n",
    "print('First 3 elements of the series: ')\n",
    "print(ser[:3])"
   ]
  },
  {
   "cell_type": "markdown",
   "id": "8f759ac0",
   "metadata": {},
   "source": [
    "5. Filter Series elements greater than 50.\n",
    "\n"
   ]
  },
  {
   "cell_type": "code",
   "execution_count": 69,
   "id": "eb5fa18f",
   "metadata": {},
   "outputs": [
    {
     "name": "stdout",
     "output_type": "stream",
     "text": [
      "0    27\n",
      "1    71\n",
      "2    97\n",
      "3    99\n",
      "4    33\n",
      "dtype: int32\n",
      "Series elements greater than 50:\n",
      "1    71\n",
      "2    97\n",
      "3    99\n",
      "dtype: int32\n"
     ]
    }
   ],
   "source": [
    "ser=pd.Series(rand.randint(10,100,(5,)))\n",
    "print(ser)\n",
    "print(f'Series elements greater than 50:\\n{ser[ser>50]}') "
   ]
  },
  {
   "cell_type": "markdown",
   "id": "86562d48",
   "metadata": {},
   "source": [
    "6. Add two Series with different indices.\n",
    "\n"
   ]
  },
  {
   "cell_type": "code",
   "execution_count": 73,
   "id": "3349e1aa",
   "metadata": {},
   "outputs": [
    {
     "name": "stdout",
     "output_type": "stream",
     "text": [
      "10    32\n",
      "20    14\n",
      "30    72\n",
      "40    39\n",
      "50    50\n",
      "dtype: int32\n",
      "1    12\n",
      "2    65\n",
      "3    16\n",
      "4    17\n",
      "5    71\n",
      "dtype: int32\n",
      "[ 44  79  88  56 121]\n"
     ]
    }
   ],
   "source": [
    "ser1=pd.Series(rand.randint(10,100,(5,)),index=[10,20,30,40,50])\n",
    "ser2=pd.Series(rand.randint(10,100,(5,)),index=[1,2,3,4,5])\n",
    "print(ser1)\n",
    "print(ser2)\n",
    "print(ser1.values+ser2.values)"
   ]
  },
  {
   "cell_type": "markdown",
   "id": "b09aa6fa",
   "metadata": {},
   "source": [
    "\n",
    "7. Multiply a Series by a scalar.\n"
   ]
  },
  {
   "cell_type": "code",
   "execution_count": 74,
   "id": "a9e5f5d7",
   "metadata": {},
   "outputs": [
    {
     "data": {
      "text/plain": [
       "0    100\n",
       "1    180\n",
       "2    320\n",
       "3     60\n",
       "4     50\n",
       "dtype: int32"
      ]
     },
     "execution_count": 74,
     "metadata": {},
     "output_type": "execute_result"
    }
   ],
   "source": [
    "ser=pd.Series(rand.randint(10,100,(5,)))\n",
    "ser*5"
   ]
  },
  {
   "cell_type": "markdown",
   "id": "18f4cc3d",
   "metadata": {},
   "source": [
    "8. Use .multiply() method to multiply with scalar.\n"
   ]
  },
  {
   "cell_type": "code",
   "execution_count": 78,
   "id": "a47ba85f",
   "metadata": {},
   "outputs": [
    {
     "name": "stdout",
     "output_type": "stream",
     "text": [
      "0    21\n",
      "1    18\n",
      "2    48\n",
      "3    33\n",
      "4    64\n",
      "dtype: int32\n"
     ]
    },
    {
     "data": {
      "text/plain": [
       "0    105\n",
       "1     90\n",
       "2    240\n",
       "3    165\n",
       "4    320\n",
       "dtype: int32"
      ]
     },
     "execution_count": 78,
     "metadata": {},
     "output_type": "execute_result"
    }
   ],
   "source": [
    "ser=pd.Series(rand.randint(10,100,(5,)))\n",
    "print(ser)\n",
    "ser.multiply(5)\n",
    "ser.multiply(5)"
   ]
  },
  {
   "cell_type": "markdown",
   "id": "ef461afc",
   "metadata": {},
   "source": [
    "10. Sort Series by values descending.\n"
   ]
  },
  {
   "cell_type": "code",
   "execution_count": 81,
   "id": "33de9033",
   "metadata": {},
   "outputs": [
    {
     "name": "stdout",
     "output_type": "stream",
     "text": [
      "0    41\n",
      "1    97\n",
      "2    41\n",
      "3    40\n",
      "4    32\n",
      "dtype: int32\n"
     ]
    },
    {
     "data": {
      "text/plain": [
       "1    97\n",
       "0    41\n",
       "2    41\n",
       "3    40\n",
       "4    32\n",
       "dtype: int32"
      ]
     },
     "execution_count": 81,
     "metadata": {},
     "output_type": "execute_result"
    }
   ],
   "source": [
    "ser=pd.Series(rand.randint(10,100,(5,)))\n",
    "print(ser)\n",
    "ser.sort_values(ascending=False)"
   ]
  },
  {
   "cell_type": "markdown",
   "id": "9cd5b813",
   "metadata": {},
   "source": [
    "11. Sort Series by index.\n"
   ]
  },
  {
   "cell_type": "code",
   "execution_count": 84,
   "id": "dbaa3161",
   "metadata": {},
   "outputs": [
    {
     "name": "stdout",
     "output_type": "stream",
     "text": [
      "15    5 x 3\n",
      "25    5 x 5\n",
      "5     5 x 1\n",
      "dtype: object\n"
     ]
    },
    {
     "data": {
      "text/plain": [
       "5     5 x 1\n",
       "15    5 x 3\n",
       "25    5 x 5\n",
       "dtype: object"
      ]
     },
     "execution_count": 84,
     "metadata": {},
     "output_type": "execute_result"
    }
   ],
   "source": [
    "ser=pd.Series({\n",
    "    15:'5 x 3',\n",
    "    25:'5 x 5',\n",
    "    5:'5 x 1',\n",
    "})\n",
    "print(ser)\n",
    "ser.sort_index()"
   ]
  },
  {
   "cell_type": "markdown",
   "id": "da4cc61b",
   "metadata": {},
   "source": [
    "12. Check for null values.\n",
    "\n"
   ]
  },
  {
   "cell_type": "code",
   "execution_count": 91,
   "id": "7ca5cebc",
   "metadata": {},
   "outputs": [
    {
     "data": {
      "text/plain": [
       "0    False\n",
       "1    False\n",
       "2    False\n",
       "3     True\n",
       "4    False\n",
       "dtype: bool"
      ]
     },
     "execution_count": 91,
     "metadata": {},
     "output_type": "execute_result"
    }
   ],
   "source": [
    "ser=pd.Series([1,2,3,np.nan,5])\n",
    "ser.isnull()"
   ]
  },
  {
   "cell_type": "markdown",
   "id": "6c34d1a5",
   "metadata": {},
   "source": [
    "14. Concatenate two Series using concat().\n"
   ]
  },
  {
   "cell_type": "code",
   "execution_count": 94,
   "id": "26b35c14",
   "metadata": {},
   "outputs": [
    {
     "data": {
      "text/plain": [
       "0    12\n",
       "1    58\n",
       "2    11\n",
       "3    54\n",
       "4    75\n",
       "0    93\n",
       "1    76\n",
       "2    94\n",
       "3    10\n",
       "4    64\n",
       "dtype: int32"
      ]
     },
     "execution_count": 94,
     "metadata": {},
     "output_type": "execute_result"
    }
   ],
   "source": [
    "ser1=pd.Series(rand.randint(10,100,(5,)))\n",
    "ser2=pd.Series(rand.randint(10,100,(5,)))\n",
    "pd.concat((ser1,ser2))"
   ]
  },
  {
   "cell_type": "markdown",
   "id": "ec9793a2",
   "metadata": {},
   "source": [
    "15. Concatenate two Series using append().\n"
   ]
  },
  {
   "cell_type": "code",
   "execution_count": 97,
   "id": "1eab3457",
   "metadata": {},
   "outputs": [
    {
     "name": "stdout",
     "output_type": "stream",
     "text": [
      "append() function is deprecated in pandas version: 2.2.3\n"
     ]
    }
   ],
   "source": [
    "ser1=pd.Series(rand.randint(10,100,(5,)))\n",
    "ser2=pd.Series(rand.randint(10,100,(5,)))\n",
    "try: \n",
    "    ser1.append(ser2)\n",
    "except AttributeError:\n",
    "    print(f'append() function is deprecated in pandas version: {pd.__version__}')"
   ]
  },
  {
   "cell_type": "markdown",
   "id": "640d8e91",
   "metadata": {},
   "source": [
    "16. Retrieve first 5 elements using .head()\n",
    "\n"
   ]
  },
  {
   "cell_type": "code",
   "execution_count": 104,
   "id": "240bf215",
   "metadata": {},
   "outputs": [
    {
     "name": "stdout",
     "output_type": "stream",
     "text": [
      "0     54\n",
      "1     41\n",
      "2     47\n",
      "3     12\n",
      "4     87\n",
      "5     71\n",
      "6     87\n",
      "7     96\n",
      "8     75\n",
      "9     16\n",
      "10    80\n",
      "11    48\n",
      "12    22\n",
      "13    27\n",
      "14    83\n",
      "dtype: int32\n",
      "\n",
      "First five values of the series:\n",
      "0    54\n",
      "1    41\n",
      "2    47\n",
      "3    12\n",
      "4    87\n",
      "dtype: int32\n"
     ]
    }
   ],
   "source": [
    "ser=pd.Series(rand.randint(10,100,(15,)))\n",
    "print(ser)\n",
    "print()\n",
    "print(f'First five values of the series:\\n{ser.head()}')"
   ]
  },
  {
   "cell_type": "markdown",
   "id": "70fddb7b",
   "metadata": {},
   "source": [
    "17. Retrieve last 5 elements using .tail()\n"
   ]
  },
  {
   "cell_type": "code",
   "execution_count": 105,
   "id": "427bebac",
   "metadata": {},
   "outputs": [
    {
     "name": "stdout",
     "output_type": "stream",
     "text": [
      "0     11\n",
      "1     97\n",
      "2     87\n",
      "3     11\n",
      "4     23\n",
      "5     15\n",
      "6     94\n",
      "7     38\n",
      "8     50\n",
      "9     62\n",
      "10    32\n",
      "11    94\n",
      "12    70\n",
      "13    12\n",
      "14    30\n",
      "dtype: int32\n",
      "\n",
      "First five values of the series:\n",
      "10    32\n",
      "11    94\n",
      "12    70\n",
      "13    12\n",
      "14    30\n",
      "dtype: int32\n"
     ]
    }
   ],
   "source": [
    "ser=pd.Series(rand.randint(10,100,(15,)))\n",
    "print(ser)\n",
    "print()\n",
    "print(f'First five values of the series:\\n{ser.tail()}')"
   ]
  },
  {
   "cell_type": "markdown",
   "id": "2294bda2",
   "metadata": {},
   "source": [
    "18. Convert Series to DataFrame.\n"
   ]
  },
  {
   "cell_type": "code",
   "execution_count": 106,
   "id": "e5fd4b9b",
   "metadata": {},
   "outputs": [
    {
     "data": {
      "text/html": [
       "<div>\n",
       "<style scoped>\n",
       "    .dataframe tbody tr th:only-of-type {\n",
       "        vertical-align: middle;\n",
       "    }\n",
       "\n",
       "    .dataframe tbody tr th {\n",
       "        vertical-align: top;\n",
       "    }\n",
       "\n",
       "    .dataframe thead th {\n",
       "        text-align: right;\n",
       "    }\n",
       "</style>\n",
       "<table border=\"1\" class=\"dataframe\">\n",
       "  <thead>\n",
       "    <tr style=\"text-align: right;\">\n",
       "      <th></th>\n",
       "      <th>0</th>\n",
       "    </tr>\n",
       "  </thead>\n",
       "  <tbody>\n",
       "    <tr>\n",
       "      <th>0</th>\n",
       "      <td>87</td>\n",
       "    </tr>\n",
       "    <tr>\n",
       "      <th>1</th>\n",
       "      <td>30</td>\n",
       "    </tr>\n",
       "    <tr>\n",
       "      <th>2</th>\n",
       "      <td>68</td>\n",
       "    </tr>\n",
       "    <tr>\n",
       "      <th>3</th>\n",
       "      <td>94</td>\n",
       "    </tr>\n",
       "    <tr>\n",
       "      <th>4</th>\n",
       "      <td>72</td>\n",
       "    </tr>\n",
       "    <tr>\n",
       "      <th>5</th>\n",
       "      <td>42</td>\n",
       "    </tr>\n",
       "    <tr>\n",
       "      <th>6</th>\n",
       "      <td>61</td>\n",
       "    </tr>\n",
       "    <tr>\n",
       "      <th>7</th>\n",
       "      <td>57</td>\n",
       "    </tr>\n",
       "    <tr>\n",
       "      <th>8</th>\n",
       "      <td>22</td>\n",
       "    </tr>\n",
       "    <tr>\n",
       "      <th>9</th>\n",
       "      <td>46</td>\n",
       "    </tr>\n",
       "    <tr>\n",
       "      <th>10</th>\n",
       "      <td>24</td>\n",
       "    </tr>\n",
       "    <tr>\n",
       "      <th>11</th>\n",
       "      <td>80</td>\n",
       "    </tr>\n",
       "    <tr>\n",
       "      <th>12</th>\n",
       "      <td>65</td>\n",
       "    </tr>\n",
       "    <tr>\n",
       "      <th>13</th>\n",
       "      <td>93</td>\n",
       "    </tr>\n",
       "    <tr>\n",
       "      <th>14</th>\n",
       "      <td>22</td>\n",
       "    </tr>\n",
       "  </tbody>\n",
       "</table>\n",
       "</div>"
      ],
      "text/plain": [
       "     0\n",
       "0   87\n",
       "1   30\n",
       "2   68\n",
       "3   94\n",
       "4   72\n",
       "5   42\n",
       "6   61\n",
       "7   57\n",
       "8   22\n",
       "9   46\n",
       "10  24\n",
       "11  80\n",
       "12  65\n",
       "13  93\n",
       "14  22"
      ]
     },
     "execution_count": 106,
     "metadata": {},
     "output_type": "execute_result"
    }
   ],
   "source": [
    "ser=pd.Series(rand.randint(10,100,(15,)))\n",
    "ser.to_frame()"
   ]
  },
  {
   "cell_type": "markdown",
   "id": "fae5cb5e",
   "metadata": {},
   "source": [
    "19. Replace NaN with 0.\n"
   ]
  },
  {
   "cell_type": "code",
   "execution_count": 110,
   "id": "7bf1232e",
   "metadata": {},
   "outputs": [
    {
     "name": "stdout",
     "output_type": "stream",
     "text": [
      "     0\n",
      "0  1.0\n",
      "1  2.0\n",
      "2  3.0\n",
      "3  NaN\n",
      "4  4.0\n",
      "5  5.0\n",
      "\n",
      "     0\n",
      "0  1.0\n",
      "1  2.0\n",
      "2  3.0\n",
      "3  0.0\n",
      "4  4.0\n",
      "5  5.0\n"
     ]
    }
   ],
   "source": [
    "df=pd.DataFrame([1,2,3,np.nan,4,5])\n",
    "print(df)\n",
    "print()\n",
    "print(df.replace(np.nan,0))"
   ]
  },
  {
   "cell_type": "markdown",
   "id": "410fb0f9",
   "metadata": {},
   "source": [
    "20. Drop missing values.\n"
   ]
  },
  {
   "cell_type": "code",
   "execution_count": 111,
   "id": "f13864ef",
   "metadata": {},
   "outputs": [
    {
     "data": {
      "text/html": [
       "<div>\n",
       "<style scoped>\n",
       "    .dataframe tbody tr th:only-of-type {\n",
       "        vertical-align: middle;\n",
       "    }\n",
       "\n",
       "    .dataframe tbody tr th {\n",
       "        vertical-align: top;\n",
       "    }\n",
       "\n",
       "    .dataframe thead th {\n",
       "        text-align: right;\n",
       "    }\n",
       "</style>\n",
       "<table border=\"1\" class=\"dataframe\">\n",
       "  <thead>\n",
       "    <tr style=\"text-align: right;\">\n",
       "      <th></th>\n",
       "      <th>0</th>\n",
       "    </tr>\n",
       "  </thead>\n",
       "  <tbody>\n",
       "    <tr>\n",
       "      <th>0</th>\n",
       "      <td>1.0</td>\n",
       "    </tr>\n",
       "    <tr>\n",
       "      <th>1</th>\n",
       "      <td>2.0</td>\n",
       "    </tr>\n",
       "    <tr>\n",
       "      <th>2</th>\n",
       "      <td>3.0</td>\n",
       "    </tr>\n",
       "    <tr>\n",
       "      <th>4</th>\n",
       "      <td>4.0</td>\n",
       "    </tr>\n",
       "    <tr>\n",
       "      <th>5</th>\n",
       "      <td>5.0</td>\n",
       "    </tr>\n",
       "  </tbody>\n",
       "</table>\n",
       "</div>"
      ],
      "text/plain": [
       "     0\n",
       "0  1.0\n",
       "1  2.0\n",
       "2  3.0\n",
       "4  4.0\n",
       "5  5.0"
      ]
     },
     "execution_count": 111,
     "metadata": {},
     "output_type": "execute_result"
    }
   ],
   "source": [
    "df=pd.DataFrame([1,2,3,np.nan,4,5])\n",
    "df.dropna()"
   ]
  },
  {
   "cell_type": "markdown",
   "id": "8cd11f96",
   "metadata": {},
   "source": [
    "21. Check Series data type.\n",
    "\n"
   ]
  },
  {
   "cell_type": "code",
   "execution_count": 112,
   "id": "985de332",
   "metadata": {},
   "outputs": [
    {
     "data": {
      "text/plain": [
       "dtype('float64')"
      ]
     },
     "execution_count": 112,
     "metadata": {},
     "output_type": "execute_result"
    }
   ],
   "source": [
    "ser=pd.Series([1,2,3,np.nan,4,5])\n",
    "ser.dtype"
   ]
  }
 ],
 "metadata": {
  "kernelspec": {
   "display_name": "ml_internship",
   "language": "python",
   "name": "python3"
  },
  "language_info": {
   "codemirror_mode": {
    "name": "ipython",
    "version": 3
   },
   "file_extension": ".py",
   "mimetype": "text/x-python",
   "name": "python",
   "nbconvert_exporter": "python",
   "pygments_lexer": "ipython3",
   "version": "3.13.2"
  }
 },
 "nbformat": 4,
 "nbformat_minor": 5
}
