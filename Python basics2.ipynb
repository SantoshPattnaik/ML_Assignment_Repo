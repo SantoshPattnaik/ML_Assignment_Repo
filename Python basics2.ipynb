{
 "cells": [
  {
   "cell_type": "code",
   "execution_count": 1,
   "id": "d9bbff41",
   "metadata": {},
   "outputs": [],
   "source": [
    "# Assignments Dated: 21 May, 2025"
   ]
  },
  {
   "cell_type": "markdown",
   "id": "89ba99dd",
   "metadata": {},
   "source": [
    "## 1. Write a function to check if a number is prime"
   ]
  },
  {
   "cell_type": "code",
   "execution_count": 4,
   "id": "50036427",
   "metadata": {},
   "outputs": [
    {
     "name": "stdout",
     "output_type": "stream",
     "text": [
      "The number 8 is not prime\n",
      "The number 9 is not prime\n",
      "The number 11 is prime\n"
     ]
    }
   ],
   "source": [
    "def primeCheck(num):\n",
    "    isPrime=True\n",
    "    if num==1 or num==0:\n",
    "        isPrime=False\n",
    "    elif num>1:\n",
    "        for i in range(2,int(num**0.5)+1):\n",
    "            if num%i==0:\n",
    "                isPrime=False\n",
    "            else: isPrime=True\n",
    "    if isPrime:\n",
    "        print(f'The number {num} is prime')\n",
    "    else:\n",
    "        print(f'The number {num} is not prime')\n",
    "\n",
    "primeCheck(8)\n",
    "primeCheck(9)\n",
    "primeCheck(11)"
   ]
  },
  {
   "cell_type": "markdown",
   "id": "c72c74dc",
   "metadata": {},
   "source": [
    "## 2. Create a function to calculate the area of a rectangle"
   ]
  },
  {
   "cell_type": "code",
   "execution_count": 8,
   "id": "f1c11687",
   "metadata": {},
   "outputs": [
    {
     "name": "stdout",
     "output_type": "stream",
     "text": [
      "Area of the rectangle of length 30 units and breadth 12 units is: 360 sq. units\n"
     ]
    }
   ],
   "source": [
    "def areaOfRectangle():\n",
    "    length=int(input('Enter the length of the rectangle: '))\n",
    "    breadth=int(input('Enter the breadth of the rectangle: '))\n",
    "    \n",
    "    print(f'Area of the rectangle of length {length} units and breadth {breadth} units is: {length*breadth} sq. units')\n",
    "\n",
    "areaOfRectangle()"
   ]
  },
  {
   "cell_type": "markdown",
   "id": "a701e3f5",
   "metadata": {},
   "source": [
    "## 3. Create a function to find the maximum of two numbers"
   ]
  },
  {
   "cell_type": "code",
   "execution_count": 9,
   "id": "660cdef9",
   "metadata": {},
   "outputs": [
    {
     "name": "stdout",
     "output_type": "stream",
     "text": [
      "The number 13 is greater than 12\n"
     ]
    }
   ],
   "source": [
    "def maxOfTwoNum():\n",
    "    num1=int(input('Enter the first number: '))\n",
    "    num2=int(input('Enter the second number: '))\n",
    "    \n",
    "    if num1>num2:\n",
    "        print(f'The number {num1} is greater than {num2}')\n",
    "    else:\n",
    "        print(f'The number {num2} is greater than {num1}')\n",
    "        \n",
    "maxOfTwoNum()"
   ]
  },
  {
   "cell_type": "markdown",
   "id": "c82f2cc1",
   "metadata": {},
   "source": [
    "## 4. Write a function to reverse a string"
   ]
  },
  {
   "cell_type": "code",
   "execution_count": 11,
   "id": "c2846644",
   "metadata": {},
   "outputs": [
    {
     "name": "stdout",
     "output_type": "stream",
     "text": [
      "Original String: Leonardo DiCaprio\n",
      "Reversed String: oirpaCiD odranoeL\n"
     ]
    }
   ],
   "source": [
    "def reverseAString():\n",
    "    str=input('Enter a string: ')\n",
    "    print(f'Original String: {str}')\n",
    "    print(f'Reversed String: {str[::-1]}')\n",
    "    \n",
    "reverseAString()"
   ]
  },
  {
   "cell_type": "markdown",
   "id": "c96b56b8",
   "metadata": {},
   "source": [
    "## 5. Create a function to print number of vowels in a string"
   ]
  },
  {
   "cell_type": "code",
   "execution_count": 12,
   "id": "9a88e208",
   "metadata": {},
   "outputs": [
    {
     "name": "stdout",
     "output_type": "stream",
     "text": [
      "No of vowels in the string Tom Cruise is 4\n"
     ]
    }
   ],
   "source": [
    "def countVowels():\n",
    "    str=input('Enter a string: ')\n",
    "    vowels=['a','e','i','o','u']\n",
    "    count=0\n",
    "    for i in str:\n",
    "        if i in vowels:\n",
    "            count+=1\n",
    "    print(f'No of vowels in the string {str} is {count}')\n",
    "    \n",
    "countVowels()"
   ]
  },
  {
   "cell_type": "markdown",
   "id": "26125492",
   "metadata": {},
   "source": [
    "## 6. Write a function to check if a string is a palindrome"
   ]
  },
  {
   "cell_type": "code",
   "execution_count": 16,
   "id": "5876beae",
   "metadata": {},
   "outputs": [
    {
     "name": "stdout",
     "output_type": "stream",
     "text": [
      "The original string is : Tattarrattat\n",
      "Yes, the string Tattarrattat is a palindrome\n"
     ]
    }
   ],
   "source": [
    "str=input('Enter a string to check palindrome: ')\n",
    "print (f'The original string is : {str}')\n",
    "\n",
    "def palindromeCheck(str):\n",
    "    if str.lower()==str[::-1].lower():\n",
    "        print(f'Yes, the string {str} is a palindrome')\n",
    "    else:\n",
    "        print(f'No, the string {str} is not a palindrome')\n",
    "\n",
    "palindromeCheck(str)"
   ]
  },
  {
   "cell_type": "markdown",
   "id": "bfddd861",
   "metadata": {},
   "source": [
    "## 7. Create a function to calculate the sum of a list of numbers"
   ]
  },
  {
   "cell_type": "code",
   "execution_count": 17,
   "id": "c1f2e118",
   "metadata": {},
   "outputs": [
    {
     "data": {
      "text/plain": [
       "35"
      ]
     },
     "execution_count": 17,
     "metadata": {},
     "output_type": "execute_result"
    }
   ],
   "source": [
    "def calcSum(list):\n",
    "    sum=0\n",
    "    for i in list:\n",
    "        sum+=i\n",
    "    return sum\n",
    "\n",
    "list=[1,2,3,4,5,20]\n",
    "calcSum(list)"
   ]
  },
  {
   "cell_type": "markdown",
   "id": "43c4e2fb",
   "metadata": {},
   "source": [
    "## 8. Write a function to return the Fibonacci sequence up to n terms"
   ]
  },
  {
   "cell_type": "code",
   "execution_count": 19,
   "id": "875d39c4",
   "metadata": {},
   "outputs": [
    {
     "name": "stdout",
     "output_type": "stream",
     "text": [
      "0 1 1 2 3 5 8 13 21 34 55 89 144 233 377 610 987 1597 2584 4181 6765 "
     ]
    }
   ],
   "source": [
    "num=int(input('Enter a number: '))\n",
    "\n",
    "def fib(n):\n",
    "    first=0\n",
    "    second=1\n",
    "    next=0\n",
    "    for i in range(0,n):\n",
    "        if i<=1:\n",
    "            next=i\n",
    "        else: \n",
    "            next=first+second\n",
    "            first=second\n",
    "            second=next\n",
    "        \n",
    "        print(next,end=' ')\n",
    "\n",
    "fib(num)"
   ]
  }
 ],
 "metadata": {
  "kernelspec": {
   "display_name": "ml_internship",
   "language": "python",
   "name": "python3"
  },
  "language_info": {
   "codemirror_mode": {
    "name": "ipython",
    "version": 3
   },
   "file_extension": ".py",
   "mimetype": "text/x-python",
   "name": "python",
   "nbconvert_exporter": "python",
   "pygments_lexer": "ipython3",
   "version": "3.13.2"
  }
 },
 "nbformat": 4,
 "nbformat_minor": 5
}
